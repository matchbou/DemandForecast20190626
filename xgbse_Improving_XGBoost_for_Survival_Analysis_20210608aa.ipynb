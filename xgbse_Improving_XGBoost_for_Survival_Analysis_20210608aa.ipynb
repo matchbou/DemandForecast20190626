{
  "nbformat": 4,
  "nbformat_minor": 0,
  "metadata": {
    "colab": {
      "name": "Untitled0.ipynb",
      "provenance": [],
      "authorship_tag": "ABX9TyPcuceInuWczTcjGymHPX4W",
      "include_colab_link": true
    },
    "kernelspec": {
      "name": "python3",
      "display_name": "Python 3"
    },
    "accelerator": "GPU"
  },
  "cells": [
    {
      "cell_type": "markdown",
      "metadata": {
        "id": "view-in-github",
        "colab_type": "text"
      },
      "source": [
        "<a href=\"https://colab.research.google.com/github/matchbou/DemandForecast20190626/blob/master/xgbse_Improving_XGBoost_for_Survival_Analysis_20210608aa.ipynb\" target=\"_parent\"><img src=\"https://colab.research.google.com/assets/colab-badge.svg\" alt=\"Open In Colab\"/></a>"
      ]
    },
    {
      "cell_type": "code",
      "metadata": {
        "id": "prNu2W5wh5wi",
        "colab": {
          "base_uri": "https://localhost:8080/",
          "height": 405
        },
        "outputId": "ee1f3858-05b2-466f-ef18-5072db3117be"
      },
      "source": [
        "#Edward\n",
        "\n",
        "import tensorflow as tf\n",
        "import edward as ed\n",
        "from edward.models import Normal, InverseGamma, Empirical\n",
        " \n",
        "N = len(y)\n",
        "T = 1000\n",
        " \n",
        "muZero = Normal(loc=0.0, scale=1.0)\n",
        "sigmaW = InverseGamma(concentration=1.0, rate=1.0)\n",
        " \n",
        "mu = [0]*N\n",
        "mu[0] = Normal(loc=muZero, scale=sigmaW)\n",
        "for n in range(1, N):\n",
        "    mu[n] = Normal(loc=mu[n-1], scale=sigmaW)\n",
        " \n",
        "sigmaV = InverseGamma(concentration=1.0, rate=1.0)\n",
        "y_pre = Normal(loc=tf.stack(mu), scale=sigmaV)\n",
        " \n",
        "qmuZero = Empirical(tf.Variable(tf.zeros(T)))\n",
        "qsigmaW = Empirical(tf.Variable(tf.zeros(T)))\n",
        "qmu = [Empirical(tf.Variable(tf.zeros(T))) for n in range(N)]\n",
        "qsigmaV = Empirical(tf.Variable(tf.zeros(T)))\n",
        " \n",
        "latent_vars = {m: qm for m, qm in zip(mu, qmu)}\n",
        "latent_vars[muZero] = qmuZero\n",
        "latent_vars[sigmaW] = qsigmaW\n",
        "latent_vars[sigmaV] = qsigmaV\n",
        "inference = ed.HMC(latent_vars, data={y_pre: y})\n",
        "inference.run(n_iter=T)\n"
      ],
      "execution_count": null,
      "outputs": [
        {
          "output_type": "error",
          "ename": "ModuleNotFoundError",
          "evalue": "ignored",
          "traceback": [
            "\u001b[0;31m---------------------------------------------------------------------------\u001b[0m",
            "\u001b[0;31mModuleNotFoundError\u001b[0m                       Traceback (most recent call last)",
            "\u001b[0;32m<ipython-input-9-62e5b817b401>\u001b[0m in \u001b[0;36m<module>\u001b[0;34m()\u001b[0m\n\u001b[1;32m      2\u001b[0m \u001b[0;34m\u001b[0m\u001b[0m\n\u001b[1;32m      3\u001b[0m \u001b[0;32mimport\u001b[0m \u001b[0mtensorflow\u001b[0m \u001b[0;32mas\u001b[0m \u001b[0mtf\u001b[0m\u001b[0;34m\u001b[0m\u001b[0;34m\u001b[0m\u001b[0m\n\u001b[0;32m----> 4\u001b[0;31m \u001b[0;32mimport\u001b[0m \u001b[0medward\u001b[0m \u001b[0;32mas\u001b[0m \u001b[0med\u001b[0m\u001b[0;34m\u001b[0m\u001b[0;34m\u001b[0m\u001b[0m\n\u001b[0m\u001b[1;32m      5\u001b[0m \u001b[0;32mfrom\u001b[0m \u001b[0medward\u001b[0m\u001b[0;34m.\u001b[0m\u001b[0mmodels\u001b[0m \u001b[0;32mimport\u001b[0m \u001b[0mNormal\u001b[0m\u001b[0;34m,\u001b[0m \u001b[0mInverseGamma\u001b[0m\u001b[0;34m,\u001b[0m \u001b[0mEmpirical\u001b[0m\u001b[0;34m\u001b[0m\u001b[0;34m\u001b[0m\u001b[0m\n\u001b[1;32m      6\u001b[0m \u001b[0;34m\u001b[0m\u001b[0m\n",
            "\u001b[0;31mModuleNotFoundError\u001b[0m: No module named 'edward'",
            "",
            "\u001b[0;31m---------------------------------------------------------------------------\u001b[0;32m\nNOTE: If your import is failing due to a missing package, you can\nmanually install dependencies using either !pip or !apt.\n\nTo view examples of installing some common dependencies, click the\n\"Open Examples\" button below.\n\u001b[0;31m---------------------------------------------------------------------------\u001b[0m\n"
          ]
        }
      ]
    },
    {
      "cell_type": "code",
      "metadata": {
        "colab": {
          "base_uri": "https://localhost:8080/",
          "height": 405
        },
        "id": "NVRdOwxv1yNd",
        "outputId": "ee1f3858-05b2-466f-ef18-5072db3117be"
      },
      "source": [
        "#Edward\n",
        "\n",
        "import tensorflow as tf\n",
        "import edward as ed\n",
        "from edward.models import Normal, InverseGamma, Empirical\n",
        " \n",
        "N = len(y)\n",
        "T = 1000\n",
        " \n",
        "muZero = Normal(loc=0.0, scale=1.0)\n",
        "sigmaW = InverseGamma(concentration=1.0, rate=1.0)\n",
        " \n",
        "mu = [0]*N\n",
        "mu[0] = Normal(loc=muZero, scale=sigmaW)\n",
        "for n in range(1, N):\n",
        "    mu[n] = Normal(loc=mu[n-1], scale=sigmaW)\n",
        " \n",
        "sigmaV = InverseGamma(concentration=1.0, rate=1.0)\n",
        "y_pre = Normal(loc=tf.stack(mu), scale=sigmaV)\n",
        " \n",
        "qmuZero = Empirical(tf.Variable(tf.zeros(T)))\n",
        "qsigmaW = Empirical(tf.Variable(tf.zeros(T)))\n",
        "qmu = [Empirical(tf.Variable(tf.zeros(T))) for n in range(N)]\n",
        "qsigmaV = Empirical(tf.Variable(tf.zeros(T)))\n",
        " \n",
        "latent_vars = {m: qm for m, qm in zip(mu, qmu)}\n",
        "latent_vars[muZero] = qmuZero\n",
        "latent_vars[sigmaW] = qsigmaW\n",
        "latent_vars[sigmaV] = qsigmaV\n",
        "inference = ed.HMC(latent_vars, data={y_pre: y})\n",
        "inference.run(n_iter=T)\n"
      ],
      "execution_count": null,
      "outputs": [
        {
          "output_type": "error",
          "ename": "ModuleNotFoundError",
          "evalue": "ignored",
          "traceback": [
            "\u001b[0;31m---------------------------------------------------------------------------\u001b[0m",
            "\u001b[0;31mModuleNotFoundError\u001b[0m                       Traceback (most recent call last)",
            "\u001b[0;32m<ipython-input-9-62e5b817b401>\u001b[0m in \u001b[0;36m<module>\u001b[0;34m()\u001b[0m\n\u001b[1;32m      2\u001b[0m \u001b[0;34m\u001b[0m\u001b[0m\n\u001b[1;32m      3\u001b[0m \u001b[0;32mimport\u001b[0m \u001b[0mtensorflow\u001b[0m \u001b[0;32mas\u001b[0m \u001b[0mtf\u001b[0m\u001b[0;34m\u001b[0m\u001b[0;34m\u001b[0m\u001b[0m\n\u001b[0;32m----> 4\u001b[0;31m \u001b[0;32mimport\u001b[0m \u001b[0medward\u001b[0m \u001b[0;32mas\u001b[0m \u001b[0med\u001b[0m\u001b[0;34m\u001b[0m\u001b[0;34m\u001b[0m\u001b[0m\n\u001b[0m\u001b[1;32m      5\u001b[0m \u001b[0;32mfrom\u001b[0m \u001b[0medward\u001b[0m\u001b[0;34m.\u001b[0m\u001b[0mmodels\u001b[0m \u001b[0;32mimport\u001b[0m \u001b[0mNormal\u001b[0m\u001b[0;34m,\u001b[0m \u001b[0mInverseGamma\u001b[0m\u001b[0;34m,\u001b[0m \u001b[0mEmpirical\u001b[0m\u001b[0;34m\u001b[0m\u001b[0;34m\u001b[0m\u001b[0m\n\u001b[1;32m      6\u001b[0m \u001b[0;34m\u001b[0m\u001b[0m\n",
            "\u001b[0;31mModuleNotFoundError\u001b[0m: No module named 'edward'",
            "",
            "\u001b[0;31m---------------------------------------------------------------------------\u001b[0;32m\nNOTE: If your import is failing due to a missing package, you can\nmanually install dependencies using either !pip or !apt.\n\nTo view examples of installing some common dependencies, click the\n\"Open Examples\" button below.\n\u001b[0;31m---------------------------------------------------------------------------\u001b[0m\n"
          ]
        }
      ]
    }
  ]
}